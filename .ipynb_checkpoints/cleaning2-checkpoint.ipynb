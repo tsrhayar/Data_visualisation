{
 "cells": [
  {
   "cell_type": "code",
   "execution_count": 155,
   "id": "cb5eeb11",
   "metadata": {},
   "outputs": [],
   "source": [
    "import pandas as pd\n",
    "import ast\n"
   ]
  },
  {
   "cell_type": "code",
   "execution_count": 156,
   "id": "807177d1",
   "metadata": {},
   "outputs": [],
   "source": [
    "df = pd.read_csv('merged_file4.csv')\n",
    "df = df.drop_duplicates()\n",
    "df = df.dropna(subset=['Language'])\n",
    "df['contributors'] = df['contributors'].replace(\"['The history or contributor list is too large to list contributors for this repository via the API.']\", \"[]\")\n",
    "df['Topics'] = df['Topics'].apply(ast.literal_eval)\n",
    "df['languages'] = df['languages'].apply(ast.literal_eval)\n",
    "df['contributors'] = df['contributors'].apply(ast.literal_eval)\n",
    "df"
   ]
  },
  {
   "cell_type": "code",
   "execution_count": 157,
   "id": "17b5888c",
   "metadata": {},
   "outputs": [],
   "source": [
    "df.columns"
   ]
  },
  {
   "cell_type": "code",
   "execution_count": 158,
   "id": "0c0ce805",
   "metadata": {},
   "outputs": [],
   "source": [
    "df_sorted = df.sort_values(by='Stars', ascending=False)\n",
    "df_sorted\n",
    "\n",
    "top_n = 10\n",
    "df_top = df_sorted.head(top_n)\n",
    "\n",
    "df_top"
   ]
  },
  {
   "cell_type": "code",
   "execution_count": 159,
   "id": "cbcd20f2",
   "metadata": {},
   "outputs": [],
   "source": [
    "import pandas as pd\n",
    "import matplotlib.pyplot as plt\n",
    "\n",
    "# Remove rows with NaN in the Language column\n",
    "df2 = df.dropna(subset=['Language'])\n",
    "\n",
    "# Count the number of occurrences for each language\n",
    "language_counts = df2['Language'].value_counts().head(15)\n",
    "\n",
    "# Plotting the pie chart\n",
    "plt.figure(figsize=(8, 8))\n",
    "language_counts.plot(kind='pie', autopct='%1.1f%%', startangle=90)\n",
    "plt.title('Language Distribution')\n",
    "plt.ylabel('')\n",
    "plt.show()\n"
   ]
  },
  {
   "cell_type": "code",
   "execution_count": 160,
   "id": "0010787c",
   "metadata": {},
   "outputs": [],
   "source": [
    "# Sort the dataframe by 'Stars' column in descending order\n",
    "df3 = df.sort_values(by='Stars', ascending=False)\n",
    "# Get the top 10 languages based on stars\n",
    "top_languages = df3.head(50)['Language']\n",
    "# print(top_languages)\n",
    "\n",
    "# Plotting the bar chart\n",
    "# plt.figure(figsize=(10, 6))\n",
    "top_languages.value_counts().plot(kind='bar')\n",
    "plt.title('Top 10 Popular Languages by Stars')\n",
    "plt.xlabel('Language')\n",
    "plt.ylabel('Number of Repositories')\n",
    "plt.xticks(rotation=45)\n",
    "plt.show()"
   ]
  },
  {
   "cell_type": "code",
   "execution_count": 161,
   "id": "69ccdfdb",
   "metadata": {},
   "outputs": [],
   "source": [
    "# Remove rows with NaN in the Language column\n",
    "\n",
    "# Sort the dataframe by 'Forks' column in descending order\n",
    "df4 = df.sort_values(by='Forks', ascending=False)\n",
    "\n",
    "# Get the top 10 languages based on forks\n",
    "top_languages = df4.head(20)['Language']\n",
    "\n",
    "# Count the number of repositories for each language\n",
    "language_counts = top_languages.value_counts()\n",
    "\n",
    "# Plotting the bar plot\n",
    "plt.figure(figsize=(10, 6))\n",
    "language_counts.plot(kind='bar')\n",
    "plt.title('Popular Languages by Forks')\n",
    "plt.xlabel('Language')\n",
    "plt.ylabel('Number of Repositories')\n",
    "plt.xticks(rotation=45)\n",
    "plt.show()"
   ]
  },
  {
   "cell_type": "code",
   "execution_count": 162,
   "id": "9816b2cc",
   "metadata": {},
   "outputs": [],
   "source": [
    "# Sort the dataframe by the number of contributors in descending order\n",
    "df['Num Contributors'] = df['contributors'].apply(lambda x: len(x))\n",
    "df5 = df.sort_values(by='Num Contributors', ascending=False)\n",
    "\n",
    "# Get the top 10 languages based on contributors\n",
    "top_languages = df5.head(10)['Language']\n",
    "\n",
    "# Plotting the bar chart\n",
    "plt.figure(figsize=(10, 6))\n",
    "top_languages.value_counts().plot(kind='bar')\n",
    "plt.title('Top 10 Popular Languages by Contributors')\n",
    "plt.xlabel('Language')\n",
    "plt.ylabel('Number of Contributors')\n",
    "plt.xticks(rotation=45)\n",
    "plt.show()"
   ]
  },
  {
   "cell_type": "code",
   "execution_count": 163,
   "id": "39162313",
   "metadata": {},
   "outputs": [],
   "source": [
    "from wordcloud import WordCloud\n",
    "import ast\n",
    "\n",
    "\n",
    "# Flatten the topics column\n",
    "topics = [topic for sublist in df['Topics'] for topic in sublist]\n",
    "\n",
    "# Create a string of all topics\n",
    "topics_text = ' '.join(topics)\n",
    "\n",
    "# Generate the word cloud\n",
    "wordcloud = WordCloud(width=800, height=400, background_color='white').generate(topics_text)\n",
    "\n",
    "# Plot the word cloud\n",
    "plt.figure(figsize=(10, 6))\n",
    "plt.imshow(wordcloud, interpolation='bilinear')\n",
    "plt.title('Word Cloud of Repository Topics')\n",
    "plt.axis('off')\n",
    "plt.show()"
   ]
  },
  {
   "cell_type": "code",
   "execution_count": 164,
   "id": "08b65dc9",
   "metadata": {},
   "outputs": [],
   "source": [
    "from wordcloud import WordCloud\n",
    "\n",
    "\n",
    "# Flatten the topics column\n",
    "topics = [topic for sublist in df['languages'] for topic in sublist]\n",
    "\n",
    "# Create a string of all topics\n",
    "topics_text = ' '.join(topics)\n",
    "\n",
    "# Generate the word cloud\n",
    "wordcloud = WordCloud(width=800, height=400, background_color='white').generate(topics_text)\n",
    "\n",
    "# Plot the word cloud\n",
    "plt.figure(figsize=(10, 6))\n",
    "plt.imshow(wordcloud, interpolation='bilinear')\n",
    "plt.title('Word Cloud of Repository languages')\n",
    "plt.axis('off')\n",
    "plt.show()"
   ]
  },
  {
   "cell_type": "code",
   "execution_count": 165,
   "id": "c8280e71",
   "metadata": {},
   "outputs": [],
   "source": [
    "# Compter le nombre d'occurrences de chaque langue dans la colonne 'Language'\n",
    "language_counts = df.groupby('Language').size()\n",
    "\n",
    "# Trier les comptages par ordre décroissant\n",
    "language_counts_sorted = language_counts.sort_values(ascending=False)\n",
    "\n",
    "# Afficher les 20 premières occurrences de langues les plus fréquentes\n",
    "top_20_language = language_counts_sorted.head(10)\n",
    "# top_20_language"
   ]
  },
  {
   "cell_type": "code",
   "execution_count": 166,
   "id": "52652197",
   "metadata": {},
   "outputs": [],
   "source": [
    "# Convertir la colonne 'Date creation' en objets datetime en utilisant le format spécifié\n",
    "df['Date creation'] = pd.to_datetime(df['Date creation'], format='%Y-%m-%dT%H:%M:%SZ')\n",
    "\n",
    "# Obtenir les années distinctes\n",
    "distinct_years = df['Date creation'].dt.year.unique()\n",
    "distinct_years = sorted(distinct_years)"
   ]
  },
  {
   "cell_type": "code",
   "execution_count": 167,
   "id": "501f5370",
   "metadata": {},
   "outputs": [],
   "source": [
    "line_data = []\n",
    "for language, count in top_20_language.items():\n",
    "    per_years = []\n",
    "    for year in distinct_years:\n",
    "        # Convert 'Date creation' column to datetime format\n",
    "        df['Date creation'] = pd.to_datetime(df['Date creation'])\n",
    "\n",
    "        # Filter the dataframe for the desired year (2012 in this example)\n",
    "        df_2012 = df[df['Date creation'].dt.year == year]\n",
    "\n",
    "        # Specify the language you want to count\n",
    "        target_language = language\n",
    "\n",
    "        # Filter the dataframe to include only rows with the target language\n",
    "        df_target_language = df_2012[df_2012['Language'] == target_language]\n",
    "\n",
    "        # Count the occurrences of the target language\n",
    "        language_count = len(df_target_language)\n",
    "\n",
    "#         print(f\"Count of {target_language} in {year}: {language_count}\")\n",
    "        per_years.append(language_count)\n",
    "        \n",
    "    line_data.append([language,per_years])"
   ]
  },
  {
   "cell_type": "code",
   "execution_count": 168,
   "id": "fa072a41",
   "metadata": {},
   "outputs": [],
   "source": [
    "data = line_data\n",
    "\n",
    "# Extract the language names and count data\n",
    "languages = [item[0] for item in data]\n",
    "counts = [item[1] for item in data]\n",
    "\n",
    "# Plotting the line chart\n",
    "plt.figure(figsize=(12, 6))\n",
    "\n",
    "for i in range(len(languages)):\n",
    "    plt.plot(distinct_years,counts[i], label=languages[i])\n",
    "\n",
    "plt.xlabel('Years')\n",
    "plt.ylabel('Count')\n",
    "plt.title('Language Counts Over Time')\n",
    "plt.legend()\n",
    "plt.grid(True)\n",
    "\n",
    "plt.show()"
   ]
  },
  {
   "cell_type": "code",
   "execution_count": 169,
   "id": "58c67afb",
   "metadata": {},
   "outputs": [],
   "source": [
    "df['Stars'] = pd.to_numeric(df['Stars'])\n",
    "df['Forks'] = pd.to_numeric(df['Forks'])\n",
    "df['Sum_Stars_Forks'] = df['Stars'] + df['Forks']\n",
    "\n",
    "df"
   ]
  },
  {
   "cell_type": "code",
   "execution_count": 170,
   "id": "3448e3a9",
   "metadata": {},
   "outputs": [],
   "source": [
    "import pandas as pd\n",
    "import matplotlib.pyplot as plt\n",
    "\n",
    "# Assuming you have a DataFrame called 'df' with columns 'Language' and 'Sum_Stars_Forks'\n",
    "top_languages = df.groupby('Language')['Sum_Stars_Forks'].sum().nlargest(10)\n",
    "\n",
    "# Plotting the bar chart\n",
    "plt.figure(figsize=(10, 6))\n",
    "top_languages.plot(kind='bar')\n",
    "plt.xlabel('Language')\n",
    "plt.ylabel('Sum of Stars and Forks')\n",
    "plt.title('Top 10 Languages by Sum of Stars and Forks')\n",
    "plt.show()\n"
   ]
  },
  {
   "cell_type": "code",
   "execution_count": 171,
   "id": "78225575",
   "metadata": {},
   "outputs": [],
   "source": [
    "df"
   ]
  },
  {
   "cell_type": "code",
   "execution_count": 172,
   "id": "cb5d083c",
   "metadata": {},
   "outputs": [],
   "source": [
    "df['annee_creation'] = pd.DatetimeIndex(df['Date creation']).year\n",
    "new_df = df1 = df[['contributors','annee_creation']][(df['annee_creation'] >= 2020)]\n",
    "\n",
    "max_contributors = {}\n",
    "\n",
    "for index, row in new_df.iterrows():\n",
    "    contributors = row['contributors']\n",
    "    if len(contributors):\n",
    "        for contributor in contributors:\n",
    "            login = contributor['login']\n",
    "            contributions = contributor['contributions']\n",
    "            if login not in max_contributors:\n",
    "                max_contributors[login] = contributions\n",
    "            else :\n",
    "                max_contributors[login] = max_contributors[login] + contributions\n",
    "#                 print(login)\n",
    "\n",
    "print(max_contributors)\n",
    "\n"
   ]
  },
  {
   "cell_type": "code",
   "execution_count": null,
   "id": "69c3fdbe",
   "metadata": {},
   "outputs": [],
   "source": []
  }
 ],
 "metadata": {
  "kernelspec": {
   "display_name": "Python 3 (ipykernel)",
   "language": "python",
   "name": "python3"
  },
  "language_info": {
   "codemirror_mode": {
    "name": "ipython",
    "version": 3
   },
   "file_extension": ".py",
   "mimetype": "text/x-python",
   "name": "python",
   "nbconvert_exporter": "python",
   "pygments_lexer": "ipython3",
   "version": "3.10.11"
  }
 },
 "nbformat": 4,
 "nbformat_minor": 5
}
